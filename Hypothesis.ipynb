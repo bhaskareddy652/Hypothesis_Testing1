{
 "cells": [
  {
   "cell_type": "markdown",
   "id": "85d12e94-cc83-4ca9-b109-019426bc465d",
   "metadata": {},
   "source": [
    "CHI-SQUARE TEST"
   ]
  },
  {
   "cell_type": "markdown",
   "id": "3268bbbe-e13c-4b5f-ad1c-35ef5a2c6599",
   "metadata": {},
   "source": [
    "Here,\n",
    "\n",
    "Null Hypothesis (𝐻0): There is no association between the two categorical variables.\n",
    "Alternative Hypothesis (𝐻1): There is an association between the two categorical variables."
   ]
  },
  {
   "cell_type": "code",
   "execution_count": 33,
   "id": "a7398e56-7b2b-4912-9f95-a7dbb794374a",
   "metadata": {},
   "outputs": [],
   "source": [
    "from scipy.stats import chi2_contingency# chi2_contingency function from the scipy.stats module is used to perform the Chi-square test of independence,if there is a significant association between two categorical variables.\n",
    "import numpy as np\n",
    "example = np.array([#this shoes us satisfaction of using Smart Thermostats and Smart Lights by user\n",
    "    [50,70],\n",
    "    [80,100],\n",
    "    [60,90],\n",
    "    [30,50],\n",
    "    [20,50]\n",
    "])#here our categorical values are:Smart Thermostats and Smart Lights"
   ]
  },
  {
   "cell_type": "code",
   "execution_count": 35,
   "id": "bdeeafd1-c0ef-4493-9920-c05786d41a8b",
   "metadata": {},
   "outputs": [],
   "source": [
    "chi2, p, dof, expected = chi2_contingency(example)#here we can calculate chi-square stats,p_value,degree of freedom and expected values"
   ]
  },
  {
   "cell_type": "code",
   "execution_count": 48,
   "id": "c26ca76a-8614-40f6-b0f0-71290c9f1913",
   "metadata": {},
   "outputs": [
    {
     "name": "stdout",
     "output_type": "stream",
     "text": [
      "Chi-Square Statistic: 5.6382\n",
      "P-value: 0.2278\n",
      "Degrees of Freedom: 4\n",
      "Expected Frequencies: [[ 48.  72.]\n",
      " [ 72. 108.]\n",
      " [ 60.  90.]\n",
      " [ 32.  48.]\n",
      " [ 28.  42.]]\n"
     ]
    }
   ],
   "source": [
    "print(\"Chi-Square Statistic:\", chi2.round(4))\n",
    "print(\"P-value:\",p.round(4))\n",
    "print(\"Degrees of Freedom:\",dof)\n",
    "print(\"Expected Frequencies:\",(expected))#for calculating the expected values we have the the formula---(rows-1)*(columns-1)/n"
   ]
  },
  {
   "cell_type": "code",
   "execution_count": 46,
   "id": "5577565d-317f-45cc-93ed-8d44b50c0d56",
   "metadata": {},
   "outputs": [
    {
     "name": "stdout",
     "output_type": "stream",
     "text": [
      "H1 is rejected and H0 is accepted\n"
     ]
    }
   ],
   "source": [
    "alpha=0.05#Level of significance\n",
    "p_value = 0.2278\n",
    "if p_value<alpha:\n",
    "    print(\"H0 is rejected and H1 is accepted\")\n",
    "else:\n",
    "    print(\"H1 is rejected and H0 is accepted\")"
   ]
  },
  {
   "cell_type": "markdown",
   "id": "dbc5b34a-c29e-4afc-a25d-b1709d7b7c7b",
   "metadata": {},
   "source": [
    "So,The final Conclusion is Smart Thermostats and Smart Lights both are independent Variables"
   ]
  },
  {
   "cell_type": "markdown",
   "id": "0396e557-9c8d-440e-93af-fb02b4e1e57e",
   "metadata": {},
   "source": [
    "HYPOTHESIS TESTING--"
   ]
  },
  {
   "cell_type": "markdown",
   "id": "3dbf536d-898f-4193-b541-284b6bbdc64e",
   "metadata": {},
   "source": [
    "State the Hypotheses statement:\n",
    "Null Hypothesis (H0): The weekly operating cost model is accurate-------\n",
    "H0:mean=400--------\n",
    "Alternative Hypothesis (H1): The weekly operating cost is higher--------- \n",
    "H1:mean>4000"
   ]
  },
  {
   "cell_type": "code",
   "execution_count": 11,
   "id": "d879b484-538f-49ce-9d47-719681482378",
   "metadata": {},
   "outputs": [
    {
     "name": "stdout",
     "output_type": "stream",
     "text": [
      "-38.0\n"
     ]
    }
   ],
   "source": [
    "import numpy as np\n",
    "X=3050#sample mean\n",
    "mean=4000#theoretical mean\n",
    "std=125#standard Deviation\n",
    "n=25#n samples\n",
    "Z=(X-mean)/(std/np.sqrt(n))#the test statistic (z-score)\n",
    "print(Z)"
   ]
  },
  {
   "cell_type": "code",
   "execution_count": 13,
   "id": "f39dfe07-056e-43d6-bab2-42c2a83fd566",
   "metadata": {},
   "outputs": [
    {
     "name": "stdout",
     "output_type": "stream",
     "text": [
      "H0 is rejected and H1 is accepted\n"
     ]
    }
   ],
   "source": [
    "alpha=0.05#level of significance\n",
    "Zvalue=-38.0\n",
    "if Zvalue<alpha:\n",
    "    print(\"H0 is rejected and H1 is accepted\")\n",
    "else:\n",
    "    print(\"H1 is rejected and H0 is accepted\")"
   ]
  },
  {
   "cell_type": "code",
   "execution_count": null,
   "id": "8dc580d3-e073-461f-80f5-ed924399d457",
   "metadata": {},
   "outputs": [],
   "source": []
  }
 ],
 "metadata": {
  "kernelspec": {
   "display_name": "Python 3 (ipykernel)",
   "language": "python",
   "name": "python3"
  },
  "language_info": {
   "codemirror_mode": {
    "name": "ipython",
    "version": 3
   },
   "file_extension": ".py",
   "mimetype": "text/x-python",
   "name": "python",
   "nbconvert_exporter": "python",
   "pygments_lexer": "ipython3",
   "version": "3.11.7"
  }
 },
 "nbformat": 4,
 "nbformat_minor": 5
}
